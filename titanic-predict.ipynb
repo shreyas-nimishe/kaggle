{
 "metadata": {
  "name": ""
 },
 "nbformat": 3,
 "nbformat_minor": 0,
 "worksheets": [
  {
   "cells": [
    {
     "cell_type": "code",
     "collapsed": false,
     "input": [
      "import pandas as pd\n",
      "import numpy as np\n",
      "import seaborn as sns\n",
      "\n",
      "from sklearn.feature_extraction.text import TfidfVectorizer, CountVectorizer\n",
      "from sklearn import cross_validation\n",
      "from sklearn.linear_model import LogisticRegression\n",
      "from sklearn.ensemble import RandomForestClassifier\n",
      "from sklearn.naive_bayes import MultinomialNB, GaussianNB"
     ],
     "language": "python",
     "metadata": {},
     "outputs": [],
     "prompt_number": 93
    },
    {
     "cell_type": "code",
     "collapsed": false,
     "input": [
      "%matplotlib inline\n",
      "dataset = pd.read_csv('train.csv')\n",
      "test = pd.read_csv('test.csv')\n",
      "\n",
      "test['Sex'].replace(['male', 'female'], [0, 1], inplace = True)\n",
      "test['Embarked'].replace(['S', 'C', 'Q'], [0, 1, 2], inplace = True)\n",
      "\n",
      "dataset['Sex'].replace(['male', 'female'], [0, 1], inplace = True)\n",
      "dataset['Embarked'].replace(['S', 'C', 'Q'], [0, 1, 2], inplace = True)\n",
      "\n",
      "dataset['Age'].fillna(dataset['Age'].mean(), inplace = True)\n",
      "test['Age'].fillna(test['Age'].mean(), inplace = True)\n",
      "\n",
      "#dataset.drop(['Name', 'Ticket', 'PassengerId', 'Cabin'])\n",
      "dataset['RichFemales'] = ((dataset['Sex'] == 1) & (dataset['Age'] > 10) & (dataset['Age'] < 61))\n",
      "test['RichFemales'] = ((test['Sex'] == 1) & (test['Age'] > 10) & (test['Age'] < 61))\n",
      "\n",
      "\n",
      "test['Fare'].fillna(test['Fare'].mean(), inplace = True)\n",
      "\n",
      "dataset.drop('Cabin', axis = 1, inplace=True)\n",
      "test.drop('Cabin', axis = 1, inplace=True)\n",
      "\n",
      "print test.info()\n",
      "\n",
      "dataset.dropna(inplace=True)\n",
      "\n",
      "for attr in test.columns:\n",
      "    if(type(dataset[attr][0]) == type('a')):\n",
      "        print 'Dropping: ', attr\n",
      "        dataset.drop(attr, axis = 1, inplace=True)\n",
      "        test.drop(attr, axis = 1, inplace=True)\n",
      "       \n",
      "\n",
      "dataset.head()\n",
      "\n"
     ],
     "language": "python",
     "metadata": {},
     "outputs": [
      {
       "output_type": "stream",
       "stream": "stdout",
       "text": [
        "<class 'pandas.core.frame.DataFrame'>\n",
        "Int64Index: 418 entries, 0 to 417\n",
        "Data columns (total 11 columns):\n",
        "PassengerId    418 non-null int64\n",
        "Pclass         418 non-null int64\n",
        "Name           418 non-null object\n",
        "Sex            418 non-null int64\n",
        "Age            418 non-null float64\n",
        "SibSp          418 non-null int64\n",
        "Parch          418 non-null int64\n",
        "Ticket         418 non-null object\n",
        "Fare           418 non-null float64\n",
        "Embarked       418 non-null int64\n",
        "RichFemales    418 non-null bool\n",
        "dtypes: bool(1), float64(2), int64(6), object(2)\n",
        "memory usage: 36.3+ KB\n",
        "None\n",
        "Dropping:  Name\n",
        "Dropping:  Ticket\n"
       ]
      },
      {
       "html": [
        "<div style=\"max-width:1500px;overflow:auto;\">\n",
        "<table border=\"1\" class=\"dataframe\">\n",
        "  <thead>\n",
        "    <tr style=\"text-align: right;\">\n",
        "      <th></th>\n",
        "      <th>PassengerId</th>\n",
        "      <th>Survived</th>\n",
        "      <th>Pclass</th>\n",
        "      <th>Sex</th>\n",
        "      <th>Age</th>\n",
        "      <th>SibSp</th>\n",
        "      <th>Parch</th>\n",
        "      <th>Fare</th>\n",
        "      <th>Embarked</th>\n",
        "      <th>RichFemales</th>\n",
        "    </tr>\n",
        "  </thead>\n",
        "  <tbody>\n",
        "    <tr>\n",
        "      <th>0</th>\n",
        "      <td>1</td>\n",
        "      <td>0</td>\n",
        "      <td>3</td>\n",
        "      <td>0</td>\n",
        "      <td>22</td>\n",
        "      <td>1</td>\n",
        "      <td>0</td>\n",
        "      <td>7.2500</td>\n",
        "      <td>0</td>\n",
        "      <td>False</td>\n",
        "    </tr>\n",
        "    <tr>\n",
        "      <th>1</th>\n",
        "      <td>2</td>\n",
        "      <td>1</td>\n",
        "      <td>1</td>\n",
        "      <td>1</td>\n",
        "      <td>38</td>\n",
        "      <td>1</td>\n",
        "      <td>0</td>\n",
        "      <td>71.2833</td>\n",
        "      <td>1</td>\n",
        "      <td>True</td>\n",
        "    </tr>\n",
        "    <tr>\n",
        "      <th>2</th>\n",
        "      <td>3</td>\n",
        "      <td>1</td>\n",
        "      <td>3</td>\n",
        "      <td>1</td>\n",
        "      <td>26</td>\n",
        "      <td>0</td>\n",
        "      <td>0</td>\n",
        "      <td>7.9250</td>\n",
        "      <td>0</td>\n",
        "      <td>True</td>\n",
        "    </tr>\n",
        "    <tr>\n",
        "      <th>3</th>\n",
        "      <td>4</td>\n",
        "      <td>1</td>\n",
        "      <td>1</td>\n",
        "      <td>1</td>\n",
        "      <td>35</td>\n",
        "      <td>1</td>\n",
        "      <td>0</td>\n",
        "      <td>53.1000</td>\n",
        "      <td>0</td>\n",
        "      <td>True</td>\n",
        "    </tr>\n",
        "    <tr>\n",
        "      <th>4</th>\n",
        "      <td>5</td>\n",
        "      <td>0</td>\n",
        "      <td>3</td>\n",
        "      <td>0</td>\n",
        "      <td>35</td>\n",
        "      <td>0</td>\n",
        "      <td>0</td>\n",
        "      <td>8.0500</td>\n",
        "      <td>0</td>\n",
        "      <td>False</td>\n",
        "    </tr>\n",
        "  </tbody>\n",
        "</table>\n",
        "</div>"
       ],
       "metadata": {},
       "output_type": "pyout",
       "prompt_number": 105,
       "text": [
        "   PassengerId  Survived  Pclass  Sex  Age  SibSp  Parch     Fare  Embarked  \\\n",
        "0            1         0       3    0   22      1      0   7.2500         0   \n",
        "1            2         1       1    1   38      1      0  71.2833         1   \n",
        "2            3         1       3    1   26      0      0   7.9250         0   \n",
        "3            4         1       1    1   35      1      0  53.1000         0   \n",
        "4            5         0       3    0   35      0      0   8.0500         0   \n",
        "\n",
        "  RichFemales  \n",
        "0       False  \n",
        "1        True  \n",
        "2        True  \n",
        "3        True  \n",
        "4       False  "
       ]
      }
     ],
     "prompt_number": 105
    },
    {
     "cell_type": "code",
     "collapsed": false,
     "input": [
      "\n"
     ],
     "language": "python",
     "metadata": {},
     "outputs": [],
     "prompt_number": 105
    },
    {
     "cell_type": "code",
     "collapsed": false,
     "input": [
      "#sns.plt(X= dataset['Age'] , Y = dataset['Survived'],)"
     ],
     "language": "python",
     "metadata": {},
     "outputs": [],
     "prompt_number": 106
    },
    {
     "cell_type": "code",
     "collapsed": false,
     "input": [
      "%matplotlib inline\n",
      "\n",
      "X = dataset[test.columns]\n",
      "X.columns.values"
     ],
     "language": "python",
     "metadata": {},
     "outputs": [
      {
       "metadata": {},
       "output_type": "pyout",
       "prompt_number": 107,
       "text": [
        "array(['PassengerId', 'Pclass', 'Sex', 'Age', 'SibSp', 'Parch', 'Fare',\n",
        "       'Embarked', 'RichFemales'], dtype=object)"
       ]
      }
     ],
     "prompt_number": 107
    },
    {
     "cell_type": "code",
     "collapsed": false,
     "input": [
      "Y = dataset['Survived']"
     ],
     "language": "python",
     "metadata": {},
     "outputs": [],
     "prompt_number": 108
    },
    {
     "cell_type": "code",
     "collapsed": false,
     "input": [
      "#from sklearn.neighbors import KNeighborsClassifier\n",
      "#clf = KNeighborsClassifier(n_neighbors=20)\n",
      "#clf = RandomForestClassifier(n_estimators = 15, n_jobs = -1, oob_score = True, random_state = 42)\n",
      "clf = LogisticRegression()"
     ],
     "language": "python",
     "metadata": {},
     "outputs": [],
     "prompt_number": 109
    },
    {
     "cell_type": "code",
     "collapsed": false,
     "input": [
      "clf.fit(X, Y)"
     ],
     "language": "python",
     "metadata": {},
     "outputs": [
      {
       "metadata": {},
       "output_type": "pyout",
       "prompt_number": 110,
       "text": [
        "LogisticRegression(C=1.0, class_weight=None, dual=False, fit_intercept=True,\n",
        "          intercept_scaling=1, max_iter=100, multi_class='ovr', n_jobs=1,\n",
        "          penalty='l2', random_state=None, solver='liblinear', tol=0.0001,\n",
        "          verbose=0, warm_start=False)"
       ]
      }
     ],
     "prompt_number": 110
    },
    {
     "cell_type": "code",
     "collapsed": false,
     "input": [],
     "language": "python",
     "metadata": {},
     "outputs": [],
     "prompt_number": 110
    },
    {
     "cell_type": "code",
     "collapsed": false,
     "input": [
      "print X.columns.values\n",
      "\n",
      "print test.columns.values\n",
      "\n",
      "#for attr in test.columns.values:    test[attr].fillna(test[attr].mean(), inplace = True)"
     ],
     "language": "python",
     "metadata": {},
     "outputs": [
      {
       "output_type": "stream",
       "stream": "stdout",
       "text": [
        "['PassengerId' 'Pclass' 'Sex' 'Age' 'SibSp' 'Parch' 'Fare' 'Embarked'\n",
        " 'RichFemales']\n",
        "['PassengerId' 'Pclass' 'Sex' 'Age' 'SibSp' 'Parch' 'Fare' 'Embarked'\n",
        " 'RichFemales']\n"
       ]
      }
     ],
     "prompt_number": 111
    },
    {
     "cell_type": "code",
     "collapsed": false,
     "input": [
      "test = test[X.columns.values]\n",
      "for attr in X.columns.values:\n",
      "    test[attr].fillna(test[attr].mean(), inplace = True)\n",
      "    \n",
      "print X.columns.values\n",
      "#test.info()\n",
      "prediction = clf.predict(test)"
     ],
     "language": "python",
     "metadata": {},
     "outputs": [
      {
       "output_type": "stream",
       "stream": "stdout",
       "text": [
        "['PassengerId' 'Pclass' 'Sex' 'Age' 'SibSp' 'Parch' 'Fare' 'Embarked'\n",
        " 'RichFemales']\n"
       ]
      }
     ],
     "prompt_number": 112
    },
    {
     "cell_type": "code",
     "collapsed": false,
     "input": [
      "X_train, X_test, y_train, y_test = cross_validation.train_test_split(X, Y, test_size=0.2)\n",
      "\n",
      "print clf.score(X_test, y_test)"
     ],
     "language": "python",
     "metadata": {},
     "outputs": [
      {
       "output_type": "stream",
       "stream": "stdout",
       "text": [
        "0.825842696629\n"
       ]
      }
     ],
     "prompt_number": 113
    },
    {
     "cell_type": "code",
     "collapsed": false,
     "input": [
      "results = []\n",
      "index = 0\n",
      "for x in prediction:\n",
      "    results.append([index + 892, x])\n",
      "    index += 1\n",
      "\n",
      "results[:1]"
     ],
     "language": "python",
     "metadata": {},
     "outputs": [
      {
       "metadata": {},
       "output_type": "pyout",
       "prompt_number": 114,
       "text": [
        "[[892, 0]]"
       ]
      }
     ],
     "prompt_number": 114
    },
    {
     "cell_type": "code",
     "collapsed": false,
     "input": [
      "output_prediction = pd.DataFrame( results, columns = [\"PassengerId\",\"Survived\"] ).to_csv('titanicSubmission.csv', index = False)\n",
      "\n"
     ],
     "language": "python",
     "metadata": {},
     "outputs": [],
     "prompt_number": 115
    },
    {
     "cell_type": "code",
     "collapsed": false,
     "input": [],
     "language": "python",
     "metadata": {},
     "outputs": [],
     "prompt_number": 37
    },
    {
     "cell_type": "code",
     "collapsed": false,
     "input": [],
     "language": "python",
     "metadata": {},
     "outputs": []
    }
   ],
   "metadata": {}
  }
 ]
}