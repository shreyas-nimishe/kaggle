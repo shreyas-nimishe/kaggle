{
 "metadata": {
  "name": ""
 },
 "nbformat": 3,
 "nbformat_minor": 0,
 "worksheets": [
  {
   "cells": [
    {
     "cell_type": "code",
     "collapsed": false,
     "input": [
      "%matplotlib inline\n",
      "import pandas as pd\n",
      "import os\n",
      "import pylab as pl \n",
      "import matplotlib.pyplot as plt\n",
      "# We'll also import seaborn, a Python graphing library\n",
      "import warnings # current version of seaborn generates a bunch of warnings that we'll ignore\n",
      "warnings.filterwarnings(\"ignore\")\n",
      "import seaborn as sns\n",
      "\n",
      "from sklearn.ensemble import RandomForestClassifier\n",
      "from sklearn.naive_bayes import MultinomialNB, GaussianNB\n",
      "from sklearn.feature_extraction.text import TfidfVectorizer\n",
      "from sklearn.linear_model import LinearRegression, LogisticRegression\n",
      "from sklearn.neighbors import KNeighborsClassifier\n",
      "from sklearn import cross_validation\n",
      "\n",
      "def message(title, message):\n",
      "    os.system('notify-send \"'+title+'\" \"'+message+'\"')\n"
     ],
     "language": "python",
     "metadata": {},
     "outputs": [],
     "prompt_number": 8
    },
    {
     "cell_type": "code",
     "collapsed": false,
     "input": [
      "message('Digit Recognizer', 'Script Started' )"
     ],
     "language": "python",
     "metadata": {},
     "outputs": [],
     "prompt_number": 9
    },
    {
     "cell_type": "code",
     "collapsed": false,
     "input": [
      "# The competition datafiles are in the directory ../input\n",
      "# Read competition data files:\n",
      "train = pd.read_csv(\"../input/train.csv\")\n",
      "test  = pd.read_csv(\"../input/test.csv\")\n",
      "\n",
      "# Write to the log:\n",
      "print(\"Training set has {0[0]} rows and {0[1]} columns\".format(train.shape))\n",
      "print(\"Test set has {0[0]} rows and {0[1]} columns\".format(test.shape))\n",
      "# Any files you write to the current directory get shown as outputs"
     ],
     "language": "python",
     "metadata": {},
     "outputs": [
      {
       "output_type": "stream",
       "stream": "stdout",
       "text": [
        "Training set has 42000 rows and 785 columns\n",
        "Test set has 28000 rows and 784 columns\n"
       ]
      }
     ],
     "prompt_number": 10
    },
    {
     "cell_type": "code",
     "collapsed": false,
     "input": [
      "# no Null entry in dataset"
     ],
     "language": "python",
     "metadata": {},
     "outputs": [
      {
       "output_type": "stream",
       "stream": "stdout",
       "text": [
        "Training set has 42000 rows and 785 columns\n",
        "Test set has 28000 rows and 784 columns\n"
       ]
      }
     ],
     "prompt_number": 11
    },
    {
     "cell_type": "code",
     "collapsed": false,
     "input": [
      "pixel_columns = test.columns\n",
      "#for i in pixel_columns:   train[i].fillna(0)\n",
      "\n",
      "train['total'] = train[pixel_columns].sum(axis=1).astype(int)\n",
      "test['total'] = test[pixel_columns].sum(axis=1).astype(int)\n",
      "\n",
      "train['filled'] = test['filled'] = 0\n",
      "\n",
      "for i in pixel_columns:\n",
      "    test['filled'] += (test[i] != 0)\n",
      "    train['filled'] += (train[i] != 0)\n",
      "train.filled"
     ],
     "language": "python",
     "metadata": {},
     "outputs": [
      {
       "metadata": {},
       "output_type": "pyout",
       "prompt_number": 19,
       "text": [
        "0         98\n",
        "1        246\n",
        "2         80\n",
        "3        114\n",
        "4        261\n",
        "5        151\n",
        "6        115\n",
        "7        179\n",
        "8        165\n",
        "9        184\n",
        "10       232\n",
        "11       157\n",
        "12        76\n",
        "13       173\n",
        "14       196\n",
        "15        61\n",
        "16       212\n",
        "17       184\n",
        "18        96\n",
        "19       235\n",
        "20       160\n",
        "21       183\n",
        "22       163\n",
        "23       247\n",
        "24       160\n",
        "25       163\n",
        "26       143\n",
        "27       130\n",
        "28       153\n",
        "29       132\n",
        "        ... \n",
        "41970    141\n",
        "41971    170\n",
        "41972    155\n",
        "41973    110\n",
        "41974    170\n",
        "41975    157\n",
        "41976    164\n",
        "41977    120\n",
        "41978    129\n",
        "41979    139\n",
        "41980    120\n",
        "41981    167\n",
        "41982    138\n",
        "41983    119\n",
        "41984    210\n",
        "41985    122\n",
        "41986    174\n",
        "41987    170\n",
        "41988    196\n",
        "41989    181\n",
        "41990    137\n",
        "41991    117\n",
        "41992    160\n",
        "41993    185\n",
        "41994    187\n",
        "41995    180\n",
        "41996     66\n",
        "41997    152\n",
        "41998    154\n",
        "41999    125\n",
        "Name: filled, dtype: int64"
       ]
      }
     ],
     "prompt_number": 19
    },
    {
     "cell_type": "code",
     "collapsed": false,
     "input": [
      "\n",
      "sns.jointplot(x=\"label\", y=\"total\", data=train, size=5)\n",
      "sns.jointplot(x=\"label\", y=\"filled\", data=train, size=5)"
     ],
     "language": "python",
     "metadata": {},
     "outputs": [
      {
       "metadata": {},
       "output_type": "pyout",
       "prompt_number": 20,
       "text": [
        "<seaborn.axisgrid.JointGrid at 0x7f6b8bb27e50>"
       ]
      },
      {
       "metadata": {},
       "output_type": "display_data",
       "png": "[encoded data removed]",
       "text": [
        "<matplotlib.figure.Figure at 0x7f6b8bb0a6d0>"
       ]
      },
      {
       "metadata": {},
       "output_type": "display_data",
       "png": "[encoded data removed]",
       "text": [
        "<matplotlib.figure.Figure at 0x7f6b8ba70cd0>"
       ]
      }
     ],
     "prompt_number": 20
    },
    {
     "cell_type": "code",
     "collapsed": false,
     "input": [
      "X = train[train.columns[1:]]"
     ],
     "language": "python",
     "metadata": {},
     "outputs": [],
     "prompt_number": 21
    },
    {
     "cell_type": "code",
     "collapsed": false,
     "input": [
      "y = train['label'].astype('string')\n",
      "y.head()"
     ],
     "language": "python",
     "metadata": {},
     "outputs": [
      {
       "metadata": {},
       "output_type": "pyout",
       "prompt_number": 22,
       "text": [
        "0    1\n",
        "1    0\n",
        "2    1\n",
        "3    4\n",
        "4    0\n",
        "Name: label, dtype: object"
       ]
      }
     ],
     "prompt_number": 22
    },
    {
     "cell_type": "code",
     "collapsed": false,
     "input": [
      "model = RandomForestClassifier(n_estimators = 2000, n_jobs = -1)\n",
      "model.fit(X, y)"
     ],
     "language": "python",
     "metadata": {},
     "outputs": [
      {
       "metadata": {},
       "output_type": "pyout",
       "prompt_number": 25,
       "text": [
        "RandomForestClassifier(bootstrap=True, class_weight=None, criterion='gini',\n",
        "            max_depth=None, max_features='auto', max_leaf_nodes=None,\n",
        "            min_samples_leaf=1, min_samples_split=2,\n",
        "            min_weight_fraction_leaf=0.0, n_estimators=2000, n_jobs=-1,\n",
        "            oob_score=False, random_state=None, verbose=0,\n",
        "            warm_start=False)"
       ]
      }
     ],
     "prompt_number": 25
    },
    {
     "cell_type": "code",
     "collapsed": false,
     "input": [
      "prediction = model.predict(test)"
     ],
     "language": "python",
     "metadata": {},
     "outputs": [],
     "prompt_number": "*"
    },
    {
     "cell_type": "code",
     "collapsed": false,
     "input": [
      "result = [ [i+1, prediction[i] ] for i in range(0, 28000)]\n",
      "len(result)"
     ],
     "language": "python",
     "metadata": {},
     "outputs": [],
     "prompt_number": "*"
    },
    {
     "cell_type": "code",
     "collapsed": false,
     "input": [
      "output_prediction = pd.DataFrame(result, columns=['ImageId', 'Label']).to_csv('digits_recognizer_submission.csv', index = False)\n",
      "message('Output File Generated', '')\n"
     ],
     "language": "python",
     "metadata": {},
     "outputs": [
      {
       "ename": "NameError",
       "evalue": "name 'result' is not defined",
       "output_type": "pyerr",
       "traceback": [
        "\u001b[0;31m---------------------------------------------------------------------------\u001b[0m\n\u001b[0;31mNameError\u001b[0m                                 Traceback (most recent call last)",
        "\u001b[0;32m<ipython-input-5-8f25e327d681>\u001b[0m in \u001b[0;36m<module>\u001b[0;34m()\u001b[0m\n\u001b[0;32m----> 1\u001b[0;31m \u001b[0moutput_prediction\u001b[0m \u001b[0;34m=\u001b[0m \u001b[0mpd\u001b[0m\u001b[0;34m.\u001b[0m\u001b[0mDataFrame\u001b[0m\u001b[0;34m(\u001b[0m\u001b[0mresult\u001b[0m\u001b[0;34m,\u001b[0m \u001b[0mcolumns\u001b[0m\u001b[0;34m=\u001b[0m\u001b[0;34m[\u001b[0m\u001b[0;34m'ImageId'\u001b[0m\u001b[0;34m,\u001b[0m \u001b[0;34m'Label'\u001b[0m\u001b[0;34m]\u001b[0m\u001b[0;34m)\u001b[0m\u001b[0;34m.\u001b[0m\u001b[0mto_csv\u001b[0m\u001b[0;34m(\u001b[0m\u001b[0;34m'digits_recognizer_submission.csv'\u001b[0m\u001b[0;34m,\u001b[0m \u001b[0mindex\u001b[0m \u001b[0;34m=\u001b[0m \u001b[0mFalse\u001b[0m\u001b[0;34m)\u001b[0m\u001b[0;34m\u001b[0m\u001b[0m\n\u001b[0m\u001b[1;32m      2\u001b[0m \u001b[0mmessage\u001b[0m\u001b[0;34m(\u001b[0m\u001b[0;34m'Output File Generated'\u001b[0m\u001b[0;34m,\u001b[0m \u001b[0;34m''\u001b[0m\u001b[0;34m)\u001b[0m\u001b[0;34m\u001b[0m\u001b[0m\n",
        "\u001b[0;31mNameError\u001b[0m: name 'result' is not defined"
       ]
      }
     ],
     "prompt_number": "*"
    },
    {
     "cell_type": "code",
     "collapsed": false,
     "input": [
      "output_prediction = pd.read_csv('digits_recognizer_submission.csv')\n",
      "output_prediction.tail()"
     ],
     "language": "python",
     "metadata": {},
     "outputs": [
      {
       "html": [
        "<div style=\"max-width:1500px;overflow:auto;\">\n",
        "<table border=\"1\" class=\"dataframe\">\n",
        "  <thead>\n",
        "    <tr style=\"text-align: right;\">\n",
        "      <th></th>\n",
        "      <th>ImageId</th>\n",
        "      <th>Label</th>\n",
        "    </tr>\n",
        "  </thead>\n",
        "  <tbody>\n",
        "    <tr>\n",
        "      <th>27995</th>\n",
        "      <td>27996</td>\n",
        "      <td>9</td>\n",
        "    </tr>\n",
        "    <tr>\n",
        "      <th>27996</th>\n",
        "      <td>27997</td>\n",
        "      <td>7</td>\n",
        "    </tr>\n",
        "    <tr>\n",
        "      <th>27997</th>\n",
        "      <td>27998</td>\n",
        "      <td>3</td>\n",
        "    </tr>\n",
        "    <tr>\n",
        "      <th>27998</th>\n",
        "      <td>27999</td>\n",
        "      <td>9</td>\n",
        "    </tr>\n",
        "    <tr>\n",
        "      <th>27999</th>\n",
        "      <td>28000</td>\n",
        "      <td>2</td>\n",
        "    </tr>\n",
        "  </tbody>\n",
        "</table>\n",
        "</div>"
       ],
       "metadata": {},
       "output_type": "pyout",
       "prompt_number": 6,
       "text": [
        "       ImageId  Label\n",
        "27995    27996      9\n",
        "27996    27997      7\n",
        "27997    27998      3\n",
        "27998    27999      9\n",
        "27999    28000      2"
       ]
      }
     ],
     "prompt_number": "*"
    },
    {
     "cell_type": "code",
     "collapsed": false,
     "input": [],
     "language": "python",
     "metadata": {},
     "outputs": []
    }
   ],
   "metadata": {}
  }
 ]
}